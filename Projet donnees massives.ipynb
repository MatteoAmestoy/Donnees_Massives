{
 "metadata": {
  "name": "",
  "signature": "sha256:35bf71315123931bd361d2641600fb33edb6fd126d2acf0834bf6cf29d7e34f8"
 },
 "nbformat": 3,
 "nbformat_minor": 0,
 "worksheets": [
  {
   "cells": [
    {
     "cell_type": "markdown",
     "metadata": {},
     "source": [
      "On ouvre une connection au server comme vu en TD"
     ]
    },
    {
     "cell_type": "code",
     "collapsed": false,
     "input": [
      "import pyquickhelper, pyensae\n",
      "params={\"blob_storage\":\"hdblobstorage\", \"password1\":\"\", \"hadoop_server\":\"clusterensaeazure2\", \"password2\":\"\", \"username\":\"Amestoy\"}\n",
      "pyquickhelper.open_html_form(params=params,title=\"server + hadoop + credentials\", key_save=\"blobhp\")"
     ],
     "language": "python",
     "metadata": {},
     "outputs": [
      {
       "html": [
        "<div style=\"background-color:gainsboro; padding:2px; border:0px;\"><b>server + hadoop + credentials</b>\n",
        "<br />blob_storage <input type=\"text\" id=\"blobhpblob_storage\" value=\"hdblobstorage\" size=\"80\" />\n",
        "<br />hadoop_server <input type=\"text\" id=\"blobhphadoop_server\" value=\"clusterensaeazure2\" size=\"80\" />\n",
        "<br />password1 <input type=\"password\" id=\"blobhppassword1\" value=\"\" size=\"80\" />\n",
        "<br />password2 <input type=\"password\" id=\"blobhppassword2\" value=\"\" size=\"80\" />\n",
        "<br />username <input type=\"text\" id=\"blobhpusername\" value=\"Amestoy\" size=\"80\" />\n",
        "<br /><button onclick=\"set_valueblobhp()\">Ok</button></div>\n",
        "<script type=\"text/Javascript\">\n",
        "function blobhpcallback(msg) {\n",
        "   var ret = msg.content.data['text/plain'];\n",
        "   $('#outblobhp').text(ret);\n",
        "}\n",
        "function set_valueblobhp(){\n",
        "   command='blobhp = {' ;\n",
        "   var blobhpblob_storagevar_value = document.getElementById('blobhpblob_storage').value;\n",
        "   command += '\"blob_storage\":\"' + blobhpblob_storagevar_value + '\",';\n",
        "   var blobhphadoop_servervar_value = document.getElementById('blobhphadoop_server').value;\n",
        "   command += '\"hadoop_server\":\"' + blobhphadoop_servervar_value + '\",';\n",
        "   var blobhppassword1var_value = document.getElementById('blobhppassword1').value;\n",
        "   command += '\"password1\":\"' + blobhppassword1var_value + '\",';\n",
        "   var blobhppassword2var_value = document.getElementById('blobhppassword2').value;\n",
        "   command += '\"password2\":\"' + blobhppassword2var_value + '\",';\n",
        "   var blobhpusernamevar_value = document.getElementById('blobhpusername').value;\n",
        "   command += '\"username\":\"' + blobhpusernamevar_value + '\",';\n",
        "   command += '}';\n",
        "   var kernel = IPython.notebook.kernel;\n",
        "   kernel.execute(command);\n",
        "}\n",
        "</script>"
       ],
       "metadata": {},
       "output_type": "pyout",
       "prompt_number": 2,
       "text": [
        "<IPython.core.display.HTML at 0x8f7b7f0>"
       ]
      }
     ],
     "prompt_number": 2
    },
    {
     "cell_type": "code",
     "collapsed": false,
     "input": [
      "import pyensae\n",
      "blobstorage = blobhp[\"blob_storage\"]\n",
      "blobpassword = blobhp[\"password1\"]\n",
      "hadoop_server = blobhp[\"hadoop_server\"]\n",
      "hadoop_password = blobhp[\"password2\"]   \n",
      "username = blobhp[\"username\"]\n",
      "client, bs =  %hd_open\n",
      "client, bs\n",
      "username "
     ],
     "language": "python",
     "metadata": {},
     "outputs": [
      {
       "metadata": {},
       "output_type": "pyout",
       "prompt_number": 3,
       "text": [
        "'Amestoy'"
       ]
      }
     ],
     "prompt_number": 3
    },
    {
     "cell_type": "markdown",
     "metadata": {},
     "source": [
      "On cr\u00e9e un set de donn\u00e9es pour tester l'algorithme. (en reprenant celui pr\u00e9sent\u00e9 dans l'article)"
     ]
    },
    {
     "cell_type": "code",
     "collapsed": false,
     "input": [
      "with open(\"DataTEST.txt\", \"w\") as f :\n",
      "    f.write(\"1\"+\"\\t\"+\"2\"+\"\\n\"+\"1\"+\"\\t\"+\"4\"+\"\\n\"+\"2\"+\"\\t\"+\"3\"+\"\\n\"+\"2\"+\"\\t\"+\"5\"+\"\\n\"+\"3\"+\"\\t\"+\"4\"+\"\\n\"+\"4\"+\"\\t\"+\"5\"+\"\\n\"+\"5\"+\"\\t\"+\"3\"+\"\\n\"+\"5\"+\"\\t\"+\"1\"+\"\\n\"+\"5\"+\"\\t\"+\"2\")"
     ],
     "language": "python",
     "metadata": {},
     "outputs": [],
     "prompt_number": 23
    },
    {
     "cell_type": "code",
     "collapsed": false,
     "input": [
      "import pandas\n",
      "df = pandas.read_csv(\"DataTEST.txt\", sep=\"\\t\",names=[\"Frm\",\"To\"])\n",
      "df"
     ],
     "language": "python",
     "metadata": {},
     "outputs": [
      {
       "html": [
        "<div style=\"max-height:1000px;max-width:1500px;overflow:auto;\">\n",
        "<table border=\"1\" class=\"dataframe\">\n",
        "  <thead>\n",
        "    <tr style=\"text-align: right;\">\n",
        "      <th></th>\n",
        "      <th>Frm</th>\n",
        "      <th>To</th>\n",
        "    </tr>\n",
        "  </thead>\n",
        "  <tbody>\n",
        "    <tr>\n",
        "      <th>0</th>\n",
        "      <td> 1</td>\n",
        "      <td> 2</td>\n",
        "    </tr>\n",
        "    <tr>\n",
        "      <th>1</th>\n",
        "      <td> 1</td>\n",
        "      <td> 4</td>\n",
        "    </tr>\n",
        "    <tr>\n",
        "      <th>2</th>\n",
        "      <td> 2</td>\n",
        "      <td> 3</td>\n",
        "    </tr>\n",
        "    <tr>\n",
        "      <th>3</th>\n",
        "      <td> 2</td>\n",
        "      <td> 5</td>\n",
        "    </tr>\n",
        "    <tr>\n",
        "      <th>4</th>\n",
        "      <td> 3</td>\n",
        "      <td> 4</td>\n",
        "    </tr>\n",
        "    <tr>\n",
        "      <th>5</th>\n",
        "      <td> 4</td>\n",
        "      <td> 5</td>\n",
        "    </tr>\n",
        "    <tr>\n",
        "      <th>6</th>\n",
        "      <td> 5</td>\n",
        "      <td> 3</td>\n",
        "    </tr>\n",
        "    <tr>\n",
        "      <th>7</th>\n",
        "      <td> 5</td>\n",
        "      <td> 1</td>\n",
        "    </tr>\n",
        "    <tr>\n",
        "      <th>8</th>\n",
        "      <td> 5</td>\n",
        "      <td> 2</td>\n",
        "    </tr>\n",
        "  </tbody>\n",
        "</table>\n",
        "</div>"
       ],
       "metadata": {},
       "output_type": "pyout",
       "prompt_number": 118,
       "text": [
        "   Frm  To\n",
        "0    1   2\n",
        "1    1   4\n",
        "2    2   3\n",
        "3    2   5\n",
        "4    3   4\n",
        "5    4   5\n",
        "6    5   3\n",
        "7    5   1\n",
        "8    5   2"
       ]
      }
     ],
     "prompt_number": 118
    },
    {
     "cell_type": "markdown",
     "metadata": {},
     "source": [
      "On importe ce graphe:"
     ]
    },
    {
     "cell_type": "code",
     "collapsed": false,
     "input": [
      "%blob_up DataTEST.txt /$PSEUDO/Data/DataTEST.txt"
     ],
     "language": "python",
     "metadata": {},
     "outputs": [
      {
       "metadata": {},
       "output_type": "pyout",
       "prompt_number": 26,
       "text": [
        "'$PSEUDO/Data/DataTEST.txt'"
       ]
      }
     ],
     "prompt_number": 26
    },
    {
     "cell_type": "markdown",
     "metadata": {},
     "source": [
      "On en profite pour importer les donn\u00e9es r\u00e9elles:"
     ]
    },
    {
     "cell_type": "code",
     "collapsed": false,
     "input": [
      "%blob_up DataGoogle.txt /$PSEUDO/Data/DataGoogle.txt"
     ],
     "language": "python",
     "metadata": {},
     "outputs": [
      {
       "metadata": {},
       "output_type": "pyout",
       "prompt_number": 28,
       "text": [
        "'$PSEUDO/Data/DataGoogle.txt'"
       ]
      }
     ],
     "prompt_number": 28
    },
    {
     "cell_type": "markdown",
     "metadata": {},
     "source": [
      "On v\u00e9rifie que les donn\u00e9es ont bien \u00e9t\u00e9 charg\u00e9es:"
     ]
    },
    {
     "cell_type": "code",
     "collapsed": false,
     "input": [
      "#client.delete_folder (bs, client.account_name, \"$PSEUDO/Projet\")"
     ],
     "language": "python",
     "metadata": {},
     "outputs": [
      {
       "metadata": {},
       "output_type": "pyout",
       "prompt_number": 52,
       "text": [
        "['Amestoy/Projet',\n",
        " 'Amestoy/Projet/SortTest',\n",
        " 'Amestoy/Projet/SortTest/_SUCCESS',\n",
        " 'Amestoy/Projet/SortTest/part-r-00000']"
       ]
      }
     ],
     "prompt_number": 52
    },
    {
     "cell_type": "code",
     "collapsed": false,
     "input": [
      "%blob_ls /$PSEUDO"
     ],
     "language": "python",
     "metadata": {},
     "outputs": [
      {
       "html": [
        "<div style=\"max-height:1000px;max-width:1500px;overflow:auto;\">\n",
        "<table border=\"1\" class=\"dataframe\">\n",
        "  <thead>\n",
        "    <tr style=\"text-align: right;\">\n",
        "      <th></th>\n",
        "      <th>name</th>\n",
        "      <th>last_modified</th>\n",
        "      <th>content_type</th>\n",
        "      <th>content_length</th>\n",
        "      <th>blob_type</th>\n",
        "    </tr>\n",
        "  </thead>\n",
        "  <tbody>\n",
        "    <tr>\n",
        "      <th>0 </th>\n",
        "      <td>                       Amestoy/Data/DataGoogle.txt</td>\n",
        "      <td> Sat, 07 Feb 2015 11:51:33 GMT</td>\n",
        "      <td> application/octet-stream</td>\n",
        "      <td>  75379926</td>\n",
        "      <td> BlockBlob</td>\n",
        "    </tr>\n",
        "    <tr>\n",
        "      <th>1 </th>\n",
        "      <td>                         Amestoy/Data/DataTEST.txt</td>\n",
        "      <td> Sat, 07 Feb 2015 11:47:42 GMT</td>\n",
        "      <td> application/octet-stream</td>\n",
        "      <td>        43</td>\n",
        "      <td> BlockBlob</td>\n",
        "    </tr>\n",
        "    <tr>\n",
        "      <th>2 </th>\n",
        "      <td>                                    Amestoy/Projet</td>\n",
        "      <td> Sat, 07 Feb 2015 15:46:28 GMT</td>\n",
        "      <td> application/octet-stream</td>\n",
        "      <td>         0</td>\n",
        "      <td> BlockBlob</td>\n",
        "    </tr>\n",
        "    <tr>\n",
        "      <th>3 </th>\n",
        "      <td>                       Amestoy/Projet/PageRank.txt</td>\n",
        "      <td> Sun, 08 Feb 2015 13:32:46 GMT</td>\n",
        "      <td>                         </td>\n",
        "      <td>         0</td>\n",
        "      <td> BlockBlob</td>\n",
        "    </tr>\n",
        "    <tr>\n",
        "      <th>4 </th>\n",
        "      <td>              Amestoy/Projet/PageRank.txt/_SUCCESS</td>\n",
        "      <td> Sun, 08 Feb 2015 13:32:46 GMT</td>\n",
        "      <td> application/octet-stream</td>\n",
        "      <td>         0</td>\n",
        "      <td> BlockBlob</td>\n",
        "    </tr>\n",
        "    <tr>\n",
        "      <th>5 </th>\n",
        "      <td>          Amestoy/Projet/PageRank.txt/part-r-00000</td>\n",
        "      <td> Sun, 08 Feb 2015 13:32:46 GMT</td>\n",
        "      <td> application/octet-stream</td>\n",
        "      <td>  35176923</td>\n",
        "      <td> BlockBlob</td>\n",
        "    </tr>\n",
        "    <tr>\n",
        "      <th>6 </th>\n",
        "      <td>                     Amestoy/Projet/SortGoogle.txt</td>\n",
        "      <td> Sun, 08 Feb 2015 12:09:18 GMT</td>\n",
        "      <td>                         </td>\n",
        "      <td>         0</td>\n",
        "      <td> BlockBlob</td>\n",
        "    </tr>\n",
        "    <tr>\n",
        "      <th>7 </th>\n",
        "      <td>            Amestoy/Projet/SortGoogle.txt/_SUCCESS</td>\n",
        "      <td> Sun, 08 Feb 2015 12:09:18 GMT</td>\n",
        "      <td> application/octet-stream</td>\n",
        "      <td>         0</td>\n",
        "      <td> BlockBlob</td>\n",
        "    </tr>\n",
        "    <tr>\n",
        "      <th>8 </th>\n",
        "      <td>        Amestoy/Projet/SortGoogle.txt/part-r-00000</td>\n",
        "      <td> Sun, 08 Feb 2015 12:09:17 GMT</td>\n",
        "      <td> application/octet-stream</td>\n",
        "      <td> 166681223</td>\n",
        "      <td> BlockBlob</td>\n",
        "    </tr>\n",
        "    <tr>\n",
        "      <th>9 </th>\n",
        "      <td>                       Amestoy/Projet/SortTest.txt</td>\n",
        "      <td> Sat, 07 Feb 2015 15:46:46 GMT</td>\n",
        "      <td>                         </td>\n",
        "      <td>         0</td>\n",
        "      <td> BlockBlob</td>\n",
        "    </tr>\n",
        "    <tr>\n",
        "      <th>10</th>\n",
        "      <td>              Amestoy/Projet/SortTest.txt/_SUCCESS</td>\n",
        "      <td> Sat, 07 Feb 2015 15:46:46 GMT</td>\n",
        "      <td> application/octet-stream</td>\n",
        "      <td>         0</td>\n",
        "      <td> BlockBlob</td>\n",
        "    </tr>\n",
        "    <tr>\n",
        "      <th>11</th>\n",
        "      <td>          Amestoy/Projet/SortTest.txt/part-r-00000</td>\n",
        "      <td> Sat, 07 Feb 2015 15:46:45 GMT</td>\n",
        "      <td> application/octet-stream</td>\n",
        "      <td>       188</td>\n",
        "      <td> BlockBlob</td>\n",
        "    </tr>\n",
        "    <tr>\n",
        "      <th>12</th>\n",
        "      <td>            Amestoy/scripts/pig/Creation_Graph.pig</td>\n",
        "      <td> Sat, 07 Feb 2015 15:44:15 GMT</td>\n",
        "      <td> application/octet-stream</td>\n",
        "      <td>       577</td>\n",
        "      <td> BlockBlob</td>\n",
        "    </tr>\n",
        "    <tr>\n",
        "      <th>13</th>\n",
        "      <td>        Amestoy/scripts/pig/Creation_Graph.pig.log</td>\n",
        "      <td> Sat, 07 Feb 2015 15:47:03 GMT</td>\n",
        "      <td>                         </td>\n",
        "      <td>         0</td>\n",
        "      <td> BlockBlob</td>\n",
        "    </tr>\n",
        "    <tr>\n",
        "      <th>14</th>\n",
        "      <td>   Amestoy/scripts/pig/Creation_Graph.pig.log/exit</td>\n",
        "      <td> Sat, 07 Feb 2015 15:47:03 GMT</td>\n",
        "      <td> application/octet-stream</td>\n",
        "      <td>         3</td>\n",
        "      <td> BlockBlob</td>\n",
        "    </tr>\n",
        "    <tr>\n",
        "      <th>15</th>\n",
        "      <td> Amestoy/scripts/pig/Creation_Graph.pig.log/stderr</td>\n",
        "      <td> Sat, 07 Feb 2015 15:46:53 GMT</td>\n",
        "      <td> application/octet-stream</td>\n",
        "      <td>     31164</td>\n",
        "      <td> BlockBlob</td>\n",
        "    </tr>\n",
        "    <tr>\n",
        "      <th>16</th>\n",
        "      <td> Amestoy/scripts/pig/Creation_Graph.pig.log/stdout</td>\n",
        "      <td> Sat, 07 Feb 2015 15:46:53 GMT</td>\n",
        "      <td> application/octet-stream</td>\n",
        "      <td>         0</td>\n",
        "      <td> BlockBlob</td>\n",
        "    </tr>\n",
        "    <tr>\n",
        "      <th>17</th>\n",
        "      <td>           Amestoy/scripts/pig/Creation_Graph2.pig</td>\n",
        "      <td> Sun, 08 Feb 2015 12:03:07 GMT</td>\n",
        "      <td> application/octet-stream</td>\n",
        "      <td>       579</td>\n",
        "      <td> BlockBlob</td>\n",
        "    </tr>\n",
        "    <tr>\n",
        "      <th>18</th>\n",
        "      <td>       Amestoy/scripts/pig/Creation_Graph2.pig.log</td>\n",
        "      <td> Sun, 08 Feb 2015 12:10:08 GMT</td>\n",
        "      <td>                         </td>\n",
        "      <td>         0</td>\n",
        "      <td> BlockBlob</td>\n",
        "    </tr>\n",
        "    <tr>\n",
        "      <th>19</th>\n",
        "      <td>  Amestoy/scripts/pig/Creation_Graph2.pig.log/exit</td>\n",
        "      <td> Sun, 08 Feb 2015 12:10:08 GMT</td>\n",
        "      <td> application/octet-stream</td>\n",
        "      <td>         3</td>\n",
        "      <td> BlockBlob</td>\n",
        "    </tr>\n",
        "    <tr>\n",
        "      <th>20</th>\n",
        "      <td> Amestoy/scripts/pig/Creation_Graph2.pig.log/st...</td>\n",
        "      <td> Sun, 08 Feb 2015 12:09:58 GMT</td>\n",
        "      <td> application/octet-stream</td>\n",
        "      <td>     31816</td>\n",
        "      <td> BlockBlob</td>\n",
        "    </tr>\n",
        "    <tr>\n",
        "      <th>21</th>\n",
        "      <td> Amestoy/scripts/pig/Creation_Graph2.pig.log/st...</td>\n",
        "      <td> Sun, 08 Feb 2015 12:09:58 GMT</td>\n",
        "      <td> application/octet-stream</td>\n",
        "      <td>         0</td>\n",
        "      <td> BlockBlob</td>\n",
        "    </tr>\n",
        "    <tr>\n",
        "      <th>22</th>\n",
        "      <td>                 Amestoy/scripts/pig/iteration.pig</td>\n",
        "      <td> Sat, 07 Feb 2015 16:00:14 GMT</td>\n",
        "      <td> application/octet-stream</td>\n",
        "      <td>      1151</td>\n",
        "      <td> BlockBlob</td>\n",
        "    </tr>\n",
        "    <tr>\n",
        "      <th>23</th>\n",
        "      <td>             Amestoy/scripts/pig/iteration.pig.log</td>\n",
        "      <td> Sat, 07 Feb 2015 16:19:11 GMT</td>\n",
        "      <td>                         </td>\n",
        "      <td>         0</td>\n",
        "      <td> BlockBlob</td>\n",
        "    </tr>\n",
        "    <tr>\n",
        "      <th>24</th>\n",
        "      <td>        Amestoy/scripts/pig/iteration.pig.log/exit</td>\n",
        "      <td> Sat, 07 Feb 2015 16:19:11 GMT</td>\n",
        "      <td> application/octet-stream</td>\n",
        "      <td>         3</td>\n",
        "      <td> BlockBlob</td>\n",
        "    </tr>\n",
        "    <tr>\n",
        "      <th>25</th>\n",
        "      <td>      Amestoy/scripts/pig/iteration.pig.log/stderr</td>\n",
        "      <td> Sat, 07 Feb 2015 16:19:01 GMT</td>\n",
        "      <td> application/octet-stream</td>\n",
        "      <td>    200919</td>\n",
        "      <td> BlockBlob</td>\n",
        "    </tr>\n",
        "    <tr>\n",
        "      <th>26</th>\n",
        "      <td>      Amestoy/scripts/pig/iteration.pig.log/stdout</td>\n",
        "      <td> Sat, 07 Feb 2015 16:19:01 GMT</td>\n",
        "      <td> application/octet-stream</td>\n",
        "      <td>       504</td>\n",
        "      <td> BlockBlob</td>\n",
        "    </tr>\n",
        "    <tr>\n",
        "      <th>27</th>\n",
        "      <td>                Amestoy/scripts/pig/iteration2.pig</td>\n",
        "      <td> Sun, 08 Feb 2015 12:16:59 GMT</td>\n",
        "      <td> application/octet-stream</td>\n",
        "      <td>      1240</td>\n",
        "      <td> BlockBlob</td>\n",
        "    </tr>\n",
        "    <tr>\n",
        "      <th>28</th>\n",
        "      <td>            Amestoy/scripts/pig/iteration2.pig.log</td>\n",
        "      <td> Sun, 08 Feb 2015 13:33:17 GMT</td>\n",
        "      <td>                         </td>\n",
        "      <td>         0</td>\n",
        "      <td> BlockBlob</td>\n",
        "    </tr>\n",
        "    <tr>\n",
        "      <th>29</th>\n",
        "      <td>       Amestoy/scripts/pig/iteration2.pig.log/exit</td>\n",
        "      <td> Sun, 08 Feb 2015 13:33:17 GMT</td>\n",
        "      <td> application/octet-stream</td>\n",
        "      <td>         3</td>\n",
        "      <td> BlockBlob</td>\n",
        "    </tr>\n",
        "    <tr>\n",
        "      <th>30</th>\n",
        "      <td>     Amestoy/scripts/pig/iteration2.pig.log/stderr</td>\n",
        "      <td> Sun, 08 Feb 2015 13:33:07 GMT</td>\n",
        "      <td> application/octet-stream</td>\n",
        "      <td>    372694</td>\n",
        "      <td> BlockBlob</td>\n",
        "    </tr>\n",
        "    <tr>\n",
        "      <th>31</th>\n",
        "      <td>     Amestoy/scripts/pig/iteration2.pig.log/stdout</td>\n",
        "      <td> Sun, 08 Feb 2015 13:33:07 GMT</td>\n",
        "      <td> application/octet-stream</td>\n",
        "      <td>  74144138</td>\n",
        "      <td> BlockBlob</td>\n",
        "    </tr>\n",
        "  </tbody>\n",
        "</table>\n",
        "</div>"
       ],
       "metadata": {},
       "output_type": "pyout",
       "prompt_number": 115,
       "text": [
        "                                                 name  \\\n",
        "0                         Amestoy/Data/DataGoogle.txt   \n",
        "1                           Amestoy/Data/DataTEST.txt   \n",
        "2                                      Amestoy/Projet   \n",
        "3                         Amestoy/Projet/PageRank.txt   \n",
        "4                Amestoy/Projet/PageRank.txt/_SUCCESS   \n",
        "5            Amestoy/Projet/PageRank.txt/part-r-00000   \n",
        "6                       Amestoy/Projet/SortGoogle.txt   \n",
        "7              Amestoy/Projet/SortGoogle.txt/_SUCCESS   \n",
        "8          Amestoy/Projet/SortGoogle.txt/part-r-00000   \n",
        "9                         Amestoy/Projet/SortTest.txt   \n",
        "10               Amestoy/Projet/SortTest.txt/_SUCCESS   \n",
        "11           Amestoy/Projet/SortTest.txt/part-r-00000   \n",
        "12             Amestoy/scripts/pig/Creation_Graph.pig   \n",
        "13         Amestoy/scripts/pig/Creation_Graph.pig.log   \n",
        "14    Amestoy/scripts/pig/Creation_Graph.pig.log/exit   \n",
        "15  Amestoy/scripts/pig/Creation_Graph.pig.log/stderr   \n",
        "16  Amestoy/scripts/pig/Creation_Graph.pig.log/stdout   \n",
        "17            Amestoy/scripts/pig/Creation_Graph2.pig   \n",
        "18        Amestoy/scripts/pig/Creation_Graph2.pig.log   \n",
        "19   Amestoy/scripts/pig/Creation_Graph2.pig.log/exit   \n",
        "20  Amestoy/scripts/pig/Creation_Graph2.pig.log/st...   \n",
        "21  Amestoy/scripts/pig/Creation_Graph2.pig.log/st...   \n",
        "22                  Amestoy/scripts/pig/iteration.pig   \n",
        "23              Amestoy/scripts/pig/iteration.pig.log   \n",
        "24         Amestoy/scripts/pig/iteration.pig.log/exit   \n",
        "25       Amestoy/scripts/pig/iteration.pig.log/stderr   \n",
        "26       Amestoy/scripts/pig/iteration.pig.log/stdout   \n",
        "27                 Amestoy/scripts/pig/iteration2.pig   \n",
        "28             Amestoy/scripts/pig/iteration2.pig.log   \n",
        "29        Amestoy/scripts/pig/iteration2.pig.log/exit   \n",
        "30      Amestoy/scripts/pig/iteration2.pig.log/stderr   \n",
        "31      Amestoy/scripts/pig/iteration2.pig.log/stdout   \n",
        "\n",
        "                    last_modified              content_type  content_length  \\\n",
        "0   Sat, 07 Feb 2015 11:51:33 GMT  application/octet-stream        75379926   \n",
        "1   Sat, 07 Feb 2015 11:47:42 GMT  application/octet-stream              43   \n",
        "2   Sat, 07 Feb 2015 15:46:28 GMT  application/octet-stream               0   \n",
        "3   Sun, 08 Feb 2015 13:32:46 GMT                                         0   \n",
        "4   Sun, 08 Feb 2015 13:32:46 GMT  application/octet-stream               0   \n",
        "5   Sun, 08 Feb 2015 13:32:46 GMT  application/octet-stream        35176923   \n",
        "6   Sun, 08 Feb 2015 12:09:18 GMT                                         0   \n",
        "7   Sun, 08 Feb 2015 12:09:18 GMT  application/octet-stream               0   \n",
        "8   Sun, 08 Feb 2015 12:09:17 GMT  application/octet-stream       166681223   \n",
        "9   Sat, 07 Feb 2015 15:46:46 GMT                                         0   \n",
        "10  Sat, 07 Feb 2015 15:46:46 GMT  application/octet-stream               0   \n",
        "11  Sat, 07 Feb 2015 15:46:45 GMT  application/octet-stream             188   \n",
        "12  Sat, 07 Feb 2015 15:44:15 GMT  application/octet-stream             577   \n",
        "13  Sat, 07 Feb 2015 15:47:03 GMT                                         0   \n",
        "14  Sat, 07 Feb 2015 15:47:03 GMT  application/octet-stream               3   \n",
        "15  Sat, 07 Feb 2015 15:46:53 GMT  application/octet-stream           31164   \n",
        "16  Sat, 07 Feb 2015 15:46:53 GMT  application/octet-stream               0   \n",
        "17  Sun, 08 Feb 2015 12:03:07 GMT  application/octet-stream             579   \n",
        "18  Sun, 08 Feb 2015 12:10:08 GMT                                         0   \n",
        "19  Sun, 08 Feb 2015 12:10:08 GMT  application/octet-stream               3   \n",
        "20  Sun, 08 Feb 2015 12:09:58 GMT  application/octet-stream           31816   \n",
        "21  Sun, 08 Feb 2015 12:09:58 GMT  application/octet-stream               0   \n",
        "22  Sat, 07 Feb 2015 16:00:14 GMT  application/octet-stream            1151   \n",
        "23  Sat, 07 Feb 2015 16:19:11 GMT                                         0   \n",
        "24  Sat, 07 Feb 2015 16:19:11 GMT  application/octet-stream               3   \n",
        "25  Sat, 07 Feb 2015 16:19:01 GMT  application/octet-stream          200919   \n",
        "26  Sat, 07 Feb 2015 16:19:01 GMT  application/octet-stream             504   \n",
        "27  Sun, 08 Feb 2015 12:16:59 GMT  application/octet-stream            1240   \n",
        "28  Sun, 08 Feb 2015 13:33:17 GMT                                         0   \n",
        "29  Sun, 08 Feb 2015 13:33:17 GMT  application/octet-stream               3   \n",
        "30  Sun, 08 Feb 2015 13:33:07 GMT  application/octet-stream          372694   \n",
        "31  Sun, 08 Feb 2015 13:33:07 GMT  application/octet-stream        74144138   \n",
        "\n",
        "    blob_type  \n",
        "0   BlockBlob  \n",
        "1   BlockBlob  \n",
        "2   BlockBlob  \n",
        "3   BlockBlob  \n",
        "4   BlockBlob  \n",
        "5   BlockBlob  \n",
        "6   BlockBlob  \n",
        "7   BlockBlob  \n",
        "8   BlockBlob  \n",
        "9   BlockBlob  \n",
        "10  BlockBlob  \n",
        "11  BlockBlob  \n",
        "12  BlockBlob  \n",
        "13  BlockBlob  \n",
        "14  BlockBlob  \n",
        "15  BlockBlob  \n",
        "16  BlockBlob  \n",
        "17  BlockBlob  \n",
        "18  BlockBlob  \n",
        "19  BlockBlob  \n",
        "20  BlockBlob  \n",
        "21  BlockBlob  \n",
        "22  BlockBlob  \n",
        "23  BlockBlob  \n",
        "24  BlockBlob  \n",
        "25  BlockBlob  \n",
        "26  BlockBlob  \n",
        "27  BlockBlob  \n",
        "28  BlockBlob  \n",
        "29  BlockBlob  \n",
        "30  BlockBlob  \n",
        "31  BlockBlob  "
       ]
      }
     ],
     "prompt_number": 115
    },
    {
     "cell_type": "heading",
     "level": 1,
     "metadata": {},
     "source": [
      "Algorithme Page Rank"
     ]
    },
    {
     "cell_type": "heading",
     "level": 3,
     "metadata": {},
     "source": [
      "Initialisation de la table"
     ]
    },
    {
     "cell_type": "code",
     "collapsed": false,
     "input": [
      "%%PIG Creation_Graph.pig\n",
      "\n",
      "Arcs = LOAD '$CONTAINER/$PSEUDO/Data/$path' USING PigStorage('\\t') AS (frm:int,to:int);\n",
      "\n",
      "\n",
      "\n",
      "GrSort = GROUP Arcs BY frm;\n",
      "deg_sort = FOREACH GrSort GENERATE COUNT(Arcs) AS degs, Arcs , group AS ID;\n",
      "\n",
      "\n",
      "GrEntr = GROUP Arcs BY to;\n",
      "\n",
      "\n",
      "GrFin= Join deg_sort By ID, GrEntr By group;\n",
      "\n",
      "N = FOREACH (group GrSort ALL) GENERATE COUNT(GrSort);\n",
      "Pr = Foreach GrFin Generate deg_sort::ID AS ID , (float) 1 / (float)N.$0 AS PageRank;\n",
      "PageRank = Join GrFin By deg_sort::ID, Pr By ID;\n",
      "        \n",
      "\n",
      "STORE PageRank INTO '$CONTAINER/$PSEUDO/Projet/SortTest.txt' USING PigStorage('\\t') ;\n"
     ],
     "language": "python",
     "metadata": {},
     "outputs": [],
     "prompt_number": 54
    },
    {
     "cell_type": "code",
     "collapsed": false,
     "input": [
      "client.pig_submit(bs, client.account_name, \"Creation_Graph.pig\", params=dict(path=\"DataTEST.txt\"), stop_on_failure=True )"
     ],
     "language": "python",
     "metadata": {},
     "outputs": [
      {
       "metadata": {},
       "output_type": "pyout",
       "prompt_number": 55,
       "text": [
        "{'id': 'job_1422615021176_2508'}"
       ]
      }
     ],
     "prompt_number": 55
    },
    {
     "cell_type": "code",
     "collapsed": false,
     "input": [
      "st = %hd_job_status job_1422615021176_2508\n",
      "\n",
      "st[\"id\"],st[\"percentComplete\"],st[\"status\"][\"jobComplete\"]"
     ],
     "language": "python",
     "metadata": {},
     "outputs": [
      {
       "metadata": {},
       "output_type": "pyout",
       "prompt_number": 58,
       "text": [
        "('job_1422615021176_2508', '100% complete', True)"
       ]
      }
     ],
     "prompt_number": 58
    },
    {
     "cell_type": "code",
     "collapsed": false,
     "input": [
      "%tail_stderr job_1422615021176_2401 10"
     ],
     "language": "python",
     "metadata": {},
     "outputs": [
      {
       "html": [
        "<pre>\n",
        "\tat org.apache.pig.PigServer.executeBatch(PigServer.java:355)\n",
        "\tat org.apache.pig.tools.grunt.GruntParser.executeBatch(GruntParser.java:140)\n",
        "\tat org.apache.pig.tools.grunt.GruntParser.parseStopOnError(GruntParser.java:202)\n",
        "\tat org.apache.pig.tools.grunt.GruntParser.parseStopOnError(GruntParser.java:173)\n",
        "\tat org.apache.pig.tools.grunt.Grunt.exec(Grunt.java:84)\n",
        "\tat org.apache.pig.Main.run(Main.java:478)\n",
        "\tat org.apache.pig.Main.main(Main.java:156)\n",
        "\n",
        "Details also at logfile: C:\\apps\\dist\\hadoop-2.4.0.2.1.9.0-2196\\logs\\pig_1423312971711.log\n",
        "\n",
        "</pre><br />"
       ],
       "metadata": {},
       "output_type": "pyout",
       "prompt_number": 36,
       "text": [
        "<IPython.core.display.HTML at 0x929c860>"
       ]
      }
     ],
     "prompt_number": 36
    },
    {
     "cell_type": "heading",
     "level": 3,
     "metadata": {},
     "source": [
      "It\u00e9rations"
     ]
    },
    {
     "cell_type": "markdown",
     "metadata": {},
     "source": [
      "On cr\u00e9e une macro pour r\u00e9p\u00e9ter les iterations."
     ]
    },
    {
     "cell_type": "code",
     "collapsed": false,
     "input": [
      "%%PIG iteration.pig\n",
      "\n",
      "gr = LOAD '$CONTAINER/$PSEUDO/Projet/SortTest.txt' USING PigStorage('\\t') AS (DegS:long,Asort:{(frm: int,to: int)},Noeud:int,Noeud2:int,Aent:{(frm: int,to: int)},ID: int,PageRank: float);\n",
      "\n",
      "Arcs = LOAD '$CONTAINER/$PSEUDO/Data/DataTEST.txt' USING PigStorage('\\t') AS (frm:int,to:int);\n",
      "\n",
      "\n",
      "Graph = FOREACH gr GENERATE Noeud , DegS, PageRank AS Pinit, PageRank,  PageRank/ (float) DegS AS Ratio;\n",
      "\n",
      "\n",
      "DEFINE my_macro(G,A,ALP) RETURNS S {\n",
      "Gi= FOREACH $G GENERATE Noeud , Ratio;\n",
      "GrEntr = JOIN $A by frm , Gi by Noeud ;\n",
      "Te = GROUP GrEntr by to;\n",
      "so = FOREACH Te generate SUM(GrEntr.Ratio) AS Pr, group AS ID;\n",
      "tu = JOIN $G by Noeud, so by ID;\n",
      "sort = FOREACH tu GENERATE Noeud , DegS, Pinit, $ALP*Pinit+(1-$ALP)*Pr AS PageRank;\n",
      "$S = FOREACH sort GENERATE Noeud , DegS, Pinit, PageRank, PageRank/ (float) DegS AS Ratio;\n",
      "\n",
      "\n",
      "}\n",
      "\n",
      "Ite1 = my_macro(Graph,Arcs,$alpha);\n",
      "Ite2 = my_macro(Ite1,Arcs,$alpha);\n",
      "Ite3 = my_macro(Ite2,Arcs,$alpha);\n",
      "Ite4 = my_macro(Ite3,Arcs,$alpha);\n",
      "Ite5 = my_macro(Ite4,Arcs,$alpha);\n",
      "Ite6 = my_macro(Ite5,Arcs,$alpha);\n",
      "Ite7 = my_macro(Ite6,Arcs,$alpha);\n",
      "Ite8 = my_macro(Ite7,Arcs,$alpha);\n",
      "\n",
      "\n",
      "Dump Ite1;\n",
      "dump Ite8;\n",
      "\n",
      "\n"
     ],
     "language": "python",
     "metadata": {},
     "outputs": [],
     "prompt_number": 71
    },
    {
     "cell_type": "code",
     "collapsed": false,
     "input": [
      "client.pig_submit(bs, client.account_name, \"iteration.pig\", params=dict(alpha=\"0\"), stop_on_failure=True )"
     ],
     "language": "python",
     "metadata": {},
     "outputs": [
      {
       "metadata": {},
       "output_type": "pyout",
       "prompt_number": 72,
       "text": [
        "{'id': 'job_1422615021176_2518'}"
       ]
      }
     ],
     "prompt_number": 72
    },
    {
     "cell_type": "code",
     "collapsed": false,
     "input": [
      "st = %hd_job_status job_1422615021176_2518\n",
      "\n",
      "st[\"id\"],st[\"percentComplete\"],st[\"status\"][\"jobComplete\"]"
     ],
     "language": "python",
     "metadata": {},
     "outputs": [
      {
       "metadata": {},
       "output_type": "pyout",
       "prompt_number": 89,
       "text": [
        "('job_1422615021176_2518', '100% complete', True)"
       ]
      }
     ],
     "prompt_number": 89
    },
    {
     "cell_type": "code",
     "collapsed": false,
     "input": [
      "%tail_stderr job_1422615021176_2518 20\n"
     ],
     "language": "python",
     "metadata": {},
     "outputs": [
      {
       "html": [
        "<pre>\n",
        "2015-02-07 16:18:59,857 [main] INFO  org.apache.hadoop.mapred.ClientServiceDelegate - Application state is completed. FinalApplicationStatus=SUCCEEDED. Redirecting to job history server\n",
        "2015-02-07 16:19:00,123 [main] INFO  org.apache.hadoop.yarn.client.api.impl.TimelineClientImpl - Timeline service address: http://headnodehost:8188/ws/v1/timeline/\n",
        "2015-02-07 16:19:00,123 [main] INFO  org.apache.hadoop.yarn.client.RMProxy - Connecting to ResourceManager at headnodehost/100.89.240.147:9010\n",
        "2015-02-07 16:19:00,123 [main] INFO  org.apache.hadoop.yarn.client.AHSProxy - Connecting to Application History server at headnodehost/100.89.240.147:10200\n",
        "2015-02-07 16:19:00,185 [main] INFO  org.apache.hadoop.mapred.ClientServiceDelegate - Application state is completed. FinalApplicationStatus=SUCCEEDED. Redirecting to job history server\n",
        "2015-02-07 16:19:00,466 [main] INFO  org.apache.hadoop.yarn.client.api.impl.TimelineClientImpl - Timeline service address: http://headnodehost:8188/ws/v1/timeline/\n",
        "2015-02-07 16:19:00,466 [main] INFO  org.apache.hadoop.yarn.client.RMProxy - Connecting to ResourceManager at headnodehost/100.89.240.147:9010\n",
        "2015-02-07 16:19:00,466 [main] INFO  org.apache.hadoop.yarn.client.AHSProxy - Connecting to Application History server at headnodehost/100.89.240.147:10200\n",
        "2015-02-07 16:19:00,529 [main] INFO  org.apache.hadoop.mapred.ClientServiceDelegate - Application state is completed. FinalApplicationStatus=SUCCEEDED. Redirecting to job history server\n",
        "2015-02-07 16:19:00,657 [main] WARN  org.apache.pig.backend.hadoop.executionengine.mapReduceLayer.MapReduceLauncher - No FileSystem for scheme: wasb. Not creating success file\n",
        "2015-02-07 16:19:00,767 [main] INFO  org.apache.hadoop.yarn.client.api.impl.TimelineClientImpl - Timeline service address: http://headnodehost:8188/ws/v1/timeline/\n",
        "2015-02-07 16:19:00,767 [main] INFO  org.apache.hadoop.yarn.client.RMProxy - Connecting to ResourceManager at headnodehost/100.89.240.147:9010\n",
        "2015-02-07 16:19:00,767 [main] INFO  org.apache.hadoop.yarn.client.AHSProxy - Connecting to Application History server at headnodehost/100.89.240.147:10200\n",
        "2015-02-07 16:19:00,814 [main] INFO  org.apache.hadoop.mapred.ClientServiceDelegate - Application state is completed. FinalApplicationStatus=SUCCEEDED. Redirecting to job history server\n",
        "2015-02-07 16:19:00,954 [main] INFO  org.apache.pig.backend.hadoop.executionengine.mapReduceLayer.MapReduceLauncher - Success!\n",
        "2015-02-07 16:19:00,954 [main] INFO  org.apache.hadoop.conf.Configuration.deprecation - fs.default.name is deprecated. Instead, use fs.defaultFS\n",
        "2015-02-07 16:19:00,954 [main] INFO  org.apache.pig.data.SchemaTupleBackend - Key [pig.schematuple] was not set... will not generate code.\n",
        "2015-02-07 16:19:01,001 [main] INFO  org.apache.hadoop.mapreduce.lib.input.FileInputFormat - Total input paths to process : 1\n",
        "2015-02-07 16:19:01,001 [main] INFO  org.apache.pig.backend.hadoop.executionengine.util.MapRedUtil - Total input paths to process : 1\n",
        "\n",
        "</pre><br /><b>OUT:</b><br /><pre>\n",
        "(1,2,0.2,0.06666667014360428,0.03333333507180214)\n",
        "(2,2,0.2,0.1666666716337204,0.0833333358168602)\n",
        "(3,1,0.2,0.1666666716337204,0.1666666716337204)\n",
        "(4,1,0.2,0.30000000447034836,0.30000000447034836)\n",
        "(5,3,0.2,0.30000000447034836,0.10000000149011612)\n",
        "(1,2,0.2,0.10671296522573188,0.05335648261286594)\n",
        "(2,2,0.2,0.15640432448816244,0.07820216224408122)\n",
        "(3,1,0.2,0.18429784359479393,0.18429784359479393)\n",
        "(4,1,0.2,0.23171296837325728,0.23171296837325728)\n",
        "(5,3,0.2,0.3208719206697963,0.1069573068899321)\n",
        "\n",
        "</pre>"
       ],
       "metadata": {},
       "output_type": "pyout",
       "prompt_number": 90,
       "text": [
        "<IPython.core.display.HTML at 0x98376a0>"
       ]
      }
     ],
     "prompt_number": 90
    },
    {
     "cell_type": "markdown",
     "metadata": {},
     "source": [
      "On peut alors s'int\u00e9resser aux vraies donn\u00e9es!"
     ]
    },
    {
     "cell_type": "heading",
     "level": 3,
     "metadata": {},
     "source": [
      "Donn\u00e9es Google"
     ]
    },
    {
     "cell_type": "code",
     "collapsed": false,
     "input": [
      "%%PIG Creation_Graph2.pig\n",
      "\n",
      "Arcs = LOAD '$CONTAINER/$PSEUDO/Data/$path' USING PigStorage('\\t') AS (frm:int,to:int);\n",
      "\n",
      "\n",
      "\n",
      "GrSort = GROUP Arcs BY frm;\n",
      "deg_sort = FOREACH GrSort GENERATE COUNT(Arcs) AS degs, Arcs , group AS ID;\n",
      "\n",
      "\n",
      "GrEntr = GROUP Arcs BY to;\n",
      "\n",
      "\n",
      "GrFin= Join deg_sort By ID, GrEntr By group;\n",
      "\n",
      "N = FOREACH (group GrSort ALL) GENERATE COUNT(GrSort);\n",
      "Pr = Foreach GrFin Generate deg_sort::ID AS ID , (float) 1 / (float)N.$0 AS PageRank;\n",
      "PageRank = Join GrFin By deg_sort::ID, Pr By ID;\n",
      "        \n",
      "\n",
      "STORE PageRank INTO '$CONTAINER/$PSEUDO/Projet/SortGoogle.txt' USING PigStorage('\\t') ;\n"
     ],
     "language": "python",
     "metadata": {},
     "outputs": [],
     "prompt_number": 94
    },
    {
     "cell_type": "code",
     "collapsed": false,
     "input": [
      "client.pig_submit(bs, client.account_name, \"Creation_Graph2.pig\", params=dict(path=\"DataGoogle.txt\"), stop_on_failure=True )"
     ],
     "language": "python",
     "metadata": {},
     "outputs": [
      {
       "metadata": {},
       "output_type": "pyout",
       "prompt_number": 95,
       "text": [
        "{'id': 'job_1422615021176_2600'}"
       ]
      }
     ],
     "prompt_number": 95
    },
    {
     "cell_type": "code",
     "collapsed": false,
     "input": [
      "st = %hd_job_status job_1422615021176_2600\n",
      "\n",
      "st[\"id\"],st[\"percentComplete\"],st[\"status\"][\"jobComplete\"]"
     ],
     "language": "python",
     "metadata": {},
     "outputs": [
      {
       "metadata": {},
       "output_type": "pyout",
       "prompt_number": 99,
       "text": [
        "('job_1422615021176_2600', '100% complete', True)"
       ]
      }
     ],
     "prompt_number": 99
    },
    {
     "cell_type": "code",
     "collapsed": false,
     "input": [
      "%tail_stderr job_1422615021176_2600 20"
     ],
     "language": "python",
     "metadata": {},
     "outputs": []
    },
    {
     "cell_type": "code",
     "collapsed": false,
     "input": [
      "%%PIG iteration2.pig\n",
      "\n",
      "gr = LOAD '$CONTAINER/$PSEUDO/Projet/SortGoogle.txt' USING PigStorage('\\t') AS (DegS:long,Asort:{(frm: int,to: int)},Noeud:int,Noeud2:int,Aent:{(frm: int,to: int)},ID: int,PageRank: float);\n",
      "\n",
      "Arcs = LOAD '$CONTAINER/$PSEUDO/Data/DataGoogle.txt' USING PigStorage('\\t') AS (frm:int,to:int);\n",
      "\n",
      "\n",
      "Graph = FOREACH gr GENERATE Noeud , DegS, PageRank AS Pinit, PageRank,  PageRank/ (float) DegS AS Ratio;\n",
      "\n",
      "\n",
      "DEFINE my_macro(G,A,ALP) RETURNS S {\n",
      "Gi= FOREACH $G GENERATE Noeud , Ratio;\n",
      "GrEntr = JOIN $A by frm , Gi by Noeud ;\n",
      "Te = GROUP GrEntr by to;\n",
      "so = FOREACH Te generate SUM(GrEntr.Ratio) AS Pr, group AS ID;\n",
      "tu = JOIN $G by Noeud, so by ID;\n",
      "sort = FOREACH tu GENERATE Noeud , DegS, Pinit, $ALP*Pinit+(1-$ALP)*Pr AS PageRank;\n",
      "$S = FOREACH sort GENERATE Noeud , DegS, Pinit, PageRank, PageRank/ (float) DegS AS Ratio;\n",
      "\n",
      "\n",
      "}\n",
      "\n",
      "Ite1 = my_macro(Graph,Arcs,$alpha);\n",
      "Ite2 = my_macro(Ite1,Arcs,$alpha);\n",
      "Ite3 = my_macro(Ite2,Arcs,$alpha);\n",
      "Ite4 = my_macro(Ite3,Arcs,$alpha);\n",
      "Ite5 = my_macro(Ite4,Arcs,$alpha);\n",
      "Ite6 = my_macro(Ite5,Arcs,$alpha);\n",
      "Ite7 = my_macro(Ite6,Arcs,$alpha);\n",
      "Ite8 = my_macro(Ite7,Arcs,$alpha);\n",
      "\n",
      "\n",
      "Dump Ite1;\n",
      "dump Ite8;\n",
      "\n",
      "\n",
      "\n",
      "STORE Ite8 INTO '$CONTAINER/$PSEUDO/Projet/PageRank.txt' USING PigStorage('\\t') ;"
     ],
     "language": "python",
     "metadata": {},
     "outputs": [],
     "prompt_number": 101
    },
    {
     "cell_type": "code",
     "collapsed": false,
     "input": [
      "client.pig_submit(bs, client.account_name, \"iteration2.pig\", params=dict(alpha=\"0.5\"), stop_on_failure=True )"
     ],
     "language": "python",
     "metadata": {},
     "outputs": [
      {
       "metadata": {},
       "output_type": "pyout",
       "prompt_number": 102,
       "text": [
        "{'id': 'job_1422615021176_2605'}"
       ]
      }
     ],
     "prompt_number": 102
    },
    {
     "cell_type": "code",
     "collapsed": false,
     "input": [
      "st = %hd_job_status job_1422615021176_2605\n",
      "\n",
      "st[\"id\"],st[\"percentComplete\"],st[\"status\"][\"jobComplete\"]"
     ],
     "language": "python",
     "metadata": {},
     "outputs": [
      {
       "metadata": {},
       "output_type": "pyout",
       "prompt_number": 109,
       "text": [
        "('job_1422615021176_2605', '100% complete', True)"
       ]
      }
     ],
     "prompt_number": 109
    },
    {
     "cell_type": "code",
     "collapsed": false,
     "input": [
      "%tail_stderr job_1422615021176_2605 20"
     ],
     "language": "python",
     "metadata": {},
     "outputs": [
      {
       "html": [
        "<pre>\n",
        "2015-02-08 13:33:05,193 [main] INFO  org.apache.hadoop.mapred.ClientServiceDelegate - Application state is completed. FinalApplicationStatus=SUCCEEDED. Redirecting to job history server\n",
        "2015-02-08 13:33:05,427 [main] INFO  org.apache.hadoop.yarn.client.api.impl.TimelineClientImpl - Timeline service address: http://headnodehost:8188/ws/v1/timeline/\n",
        "2015-02-08 13:33:05,427 [main] INFO  org.apache.hadoop.yarn.client.RMProxy - Connecting to ResourceManager at headnodehost/100.89.240.147:9010\n",
        "2015-02-08 13:33:05,427 [main] INFO  org.apache.hadoop.yarn.client.AHSProxy - Connecting to Application History server at headnodehost/100.89.240.147:10200\n",
        "2015-02-08 13:33:05,489 [main] INFO  org.apache.hadoop.mapred.ClientServiceDelegate - Application state is completed. FinalApplicationStatus=SUCCEEDED. Redirecting to job history server\n",
        "2015-02-08 13:33:05,755 [main] INFO  org.apache.hadoop.yarn.client.api.impl.TimelineClientImpl - Timeline service address: http://headnodehost:8188/ws/v1/timeline/\n",
        "2015-02-08 13:33:05,755 [main] INFO  org.apache.hadoop.yarn.client.RMProxy - Connecting to ResourceManager at headnodehost/100.89.240.147:9010\n",
        "2015-02-08 13:33:05,755 [main] INFO  org.apache.hadoop.yarn.client.AHSProxy - Connecting to Application History server at headnodehost/100.89.240.147:10200\n",
        "2015-02-08 13:33:05,818 [main] INFO  org.apache.hadoop.mapred.ClientServiceDelegate - Application state is completed. FinalApplicationStatus=SUCCEEDED. Redirecting to job history server\n",
        "2015-02-08 13:33:06,068 [main] INFO  org.apache.hadoop.yarn.client.api.impl.TimelineClientImpl - Timeline service address: http://headnodehost:8188/ws/v1/timeline/\n",
        "2015-02-08 13:33:06,068 [main] INFO  org.apache.hadoop.yarn.client.RMProxy - Connecting to ResourceManager at headnodehost/100.89.240.147:9010\n",
        "2015-02-08 13:33:06,068 [main] INFO  org.apache.hadoop.yarn.client.AHSProxy - Connecting to Application History server at headnodehost/100.89.240.147:10200\n",
        "2015-02-08 13:33:06,114 [main] INFO  org.apache.hadoop.mapred.ClientServiceDelegate - Application state is completed. FinalApplicationStatus=SUCCEEDED. Redirecting to job history server\n",
        "2015-02-08 13:33:06,302 [main] WARN  org.apache.pig.backend.hadoop.executionengine.mapReduceLayer.MapReduceLauncher - No FileSystem for scheme: wasb. Not creating success file\n",
        "2015-02-08 13:33:06,396 [main] INFO  org.apache.hadoop.yarn.client.api.impl.TimelineClientImpl - Timeline service address: http://headnodehost:8188/ws/v1/timeline/\n",
        "2015-02-08 13:33:06,396 [main] INFO  org.apache.hadoop.yarn.client.RMProxy - Connecting to ResourceManager at headnodehost/100.89.240.147:9010\n",
        "2015-02-08 13:33:06,396 [main] INFO  org.apache.hadoop.yarn.client.AHSProxy - Connecting to Application History server at headnodehost/100.89.240.147:10200\n",
        "2015-02-08 13:33:06,458 [main] INFO  org.apache.hadoop.mapred.ClientServiceDelegate - Application state is completed. FinalApplicationStatus=SUCCEEDED. Redirecting to job history server\n",
        "2015-02-08 13:33:07,451 [main] INFO  org.apache.pig.backend.hadoop.executionengine.mapReduceLayer.MapReduceLauncher - Success!\n",
        "\n",
        "</pre><br /><b>OUT:</b><br /><pre>\n",
        "(916395,10,1.3523492E-6,1.061582549461105E-6,1.0615825494611051E-7)\n",
        "(916397,4,1.3523492E-6,7.852355363200487E-7,1.9630888408001218E-7)\n",
        "(916399,4,1.3523492E-6,7.042943628481174E-7,1.7607359071202936E-7)\n",
        "(916400,4,1.3523492E-6,1.0821261274423128E-6,2.705315318605782E-7)\n",
        "(916403,20,1.3523492E-6,7.202791281919268E-7,3.601395640959634E-8)\n",
        "(916406,4,1.3523492E-6,7.00859985440611E-7,1.7521499636015275E-7)\n",
        "(916407,18,1.3523492E-6,9.929362758159058E-7,5.516312643421699E-8)\n",
        "(916408,1,1.3523492E-6,7.059236966261702E-7,7.059236966261702E-7)\n",
        "(916409,1,1.3523492E-6,8.217128076315342E-7,8.217128076315342E-7)\n",
        "(916415,8,1.3523492E-6,1.4456263606943261E-6,1.8070329508679077E-7)\n",
        "(916416,3,1.3523492E-6,1.4650362621399523E-6,4.883454207133174E-7)\n",
        "(916417,26,1.3523492E-6,4.652020819408753E-6,1.7892387766956742E-7)\n",
        "(916418,13,1.3523492E-6,1.9168401786443277E-6,1.4744924451110214E-7)\n",
        "(916419,13,1.3523492E-6,1.0262355087925307E-6,7.894119298404082E-8)\n",
        "(916420,15,1.3523492E-6,1.0198868854927004E-6,6.79924590328467E-8)\n",
        "(916421,3,1.3523492E-6,8.879735835276162E-7,2.959911945092054E-7)\n",
        "(916423,7,1.3523492E-6,1.0184723897973568E-6,1.4549605568533667E-7)\n",
        "(916424,4,1.3523492E-6,7.739901456530845E-7,1.9349753641327112E-7)\n",
        "(916427,10,1.3523492E-6,1.133338628852173E-6,1.1333386288521729E-7)\n",
        "\n",
        "</pre>"
       ],
       "metadata": {},
       "output_type": "pyout",
       "prompt_number": 110,
       "text": [
        "<IPython.core.display.HTML at 0x9844860>"
       ]
      }
     ],
     "prompt_number": 110
    },
    {
     "cell_type": "code",
     "collapsed": false,
     "input": [
      "%blob_down /$PSEUDO/Projet/PageRank.txt/part-r-00000 PageRank.txt"
     ],
     "language": "python",
     "metadata": {},
     "outputs": [
      {
       "metadata": {},
       "output_type": "pyout",
       "prompt_number": 135,
       "text": [
        "'PageRank.txt'"
       ]
      }
     ],
     "prompt_number": 135
    },
    {
     "cell_type": "code",
     "collapsed": false,
     "input": [
      "import pandas\n",
      "import matplotlib as plt\n",
      "plt.style.use('ggplot')\n",
      "\n",
      "df = pandas.read_csv(\"PageRank.txt\", sep=\"\\t\",names=[\"Node\",\"OutDeg\",\"Pinit\", \"PageRank\", \"k\"])\n",
      "df\n",
      "df['PageRank'].hist(bins=100, range=(0,0.000005))"
     ],
     "language": "python",
     "metadata": {},
     "outputs": [
      {
       "metadata": {},
       "output_type": "pyout",
       "prompt_number": 141,
       "text": [
        "<matplotlib.axes._subplots.AxesSubplot at 0x98dc6a0>"
       ]
      },
      {
       "metadata": {},
       "output_type": "display_data",
       "png": "[encoded data removed]",
       "text": [
        "<matplotlib.figure.Figure at 0x9e339b0>"
       ]
      }
     ],
     "prompt_number": 141
    },
    {
     "cell_type": "code",
     "collapsed": false,
     "input": [],
     "language": "python",
     "metadata": {},
     "outputs": [
      {
       "html": [
        "<div style=\"max-height:1000px;max-width:1500px;overflow:auto;\">\n",
        "<table border=\"1\" class=\"dataframe\">\n",
        "  <thead>\n",
        "    <tr style=\"text-align: right;\">\n",
        "      <th></th>\n",
        "      <th>0</th>\n",
        "      <th>4</th>\n",
        "      <th>1.3523492E-6</th>\n",
        "      <th>1.7763069149312133E-5</th>\n",
        "      <th>4.440767287328033E-6</th>\n",
        "    </tr>\n",
        "  </thead>\n",
        "  <tbody>\n",
        "    <tr>\n",
        "      <th>0</th>\n",
        "      <td> 1</td>\n",
        "      <td> 10</td>\n",
        "      <td> 0.000001</td>\n",
        "      <td> 0.000001</td>\n",
        "      <td> 1.290813e-07</td>\n",
        "    </tr>\n",
        "    <tr>\n",
        "      <th>1</th>\n",
        "      <td> 2</td>\n",
        "      <td> 11</td>\n",
        "      <td> 0.000001</td>\n",
        "      <td> 0.000002</td>\n",
        "      <td> 2.031753e-07</td>\n",
        "    </tr>\n",
        "    <tr>\n",
        "      <th>2</th>\n",
        "      <td> 4</td>\n",
        "      <td>  7</td>\n",
        "      <td> 0.000001</td>\n",
        "      <td> 0.000001</td>\n",
        "      <td> 1.567663e-07</td>\n",
        "    </tr>\n",
        "    <tr>\n",
        "      <th>3</th>\n",
        "      <td> 5</td>\n",
        "      <td>  7</td>\n",
        "      <td> 0.000001</td>\n",
        "      <td> 0.000002</td>\n",
        "      <td> 2.325914e-07</td>\n",
        "    </tr>\n",
        "    <tr>\n",
        "      <th>4</th>\n",
        "      <td> 7</td>\n",
        "      <td> 16</td>\n",
        "      <td> 0.000001</td>\n",
        "      <td> 0.000001</td>\n",
        "      <td> 5.447865e-08</td>\n",
        "    </tr>\n",
        "  </tbody>\n",
        "</table>\n",
        "</div>"
       ],
       "metadata": {},
       "output_type": "pyout",
       "prompt_number": 133,
       "text": [
        "   0   4  1.3523492E-6  1.7763069149312133E-5  4.440767287328033E-6\n",
        "0  1  10      0.000001               0.000001          1.290813e-07\n",
        "1  2  11      0.000001               0.000002          2.031753e-07\n",
        "2  4   7      0.000001               0.000001          1.567663e-07\n",
        "3  5   7      0.000001               0.000002          2.325914e-07\n",
        "4  7  16      0.000001               0.000001          5.447865e-08"
       ]
      }
     ],
     "prompt_number": 133
    },
    {
     "cell_type": "code",
     "collapsed": false,
     "input": [],
     "language": "python",
     "metadata": {},
     "outputs": []
    },
    {
     "cell_type": "code",
     "collapsed": false,
     "input": [],
     "language": "python",
     "metadata": {},
     "outputs": []
    },
    {
     "cell_type": "code",
     "collapsed": false,
     "input": [
      "%blob_close"
     ],
     "language": "python",
     "metadata": {},
     "outputs": [
      {
       "metadata": {},
       "output_type": "pyout",
       "prompt_number": 40,
       "text": [
        "True"
       ]
      }
     ],
     "prompt_number": 40
    }
   ],
   "metadata": {}
  }
 ]
}